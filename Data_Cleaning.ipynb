{
  "nbformat": 4,
  "nbformat_minor": 0,
  "metadata": {
    "colab": {
      "provenance": []
    },
    "kernelspec": {
      "name": "python3",
      "display_name": "Python 3"
    },
    "language_info": {
      "name": "python"
    }
  },
  "cells": [
    {
      "cell_type": "code",
      "execution_count": null,
      "metadata": {
        "id": "_CewEuTz8Lp1"
      },
      "outputs": [],
      "source": [
        "import numpy as np\n",
        "import pandas as pd"
      ]
    },
    {
      "cell_type": "code",
      "source": [
        "df = pd.read_csv('Property_Assessment_Data__Historical_.csv')"
      ],
      "metadata": {
        "colab": {
          "base_uri": "https://localhost:8080/"
        },
        "id": "S21rm6I28TqA",
        "outputId": "c6c9e664-ec03-455b-9b8d-c1f71607bad0"
      },
      "execution_count": null,
      "outputs": [
        {
          "output_type": "stream",
          "name": "stderr",
          "text": [
            "/usr/local/lib/python3.8/dist-packages/IPython/core/interactiveshell.py:3326: DtypeWarning: Columns (2,17,19) have mixed types.Specify dtype option on import or set low_memory=False.\n",
            "  exec(code_obj, self.user_global_ns, self.user_ns)\n"
          ]
        }
      ]
    },
    {
      "cell_type": "code",
      "source": [
        "df = df.drop(['Latitude', 'Longitude', 'Point Location', 'Assessment Class 2', 'Assessment Class % 2', 'Assessment Class 3', 'Assessment Class % 3'], axis = 1)"
      ],
      "metadata": {
        "id": "gl9xw9C1Bncq"
      },
      "execution_count": null,
      "outputs": []
    },
    {
      "cell_type": "code",
      "source": [
        "def filter_by_year(df, year_column='Assessment Year'):\n",
        "\n",
        "  mask = (df[year_column] >= 2019) & (df[year_column] <= 2021)\n",
        "  return df[mask]"
      ],
      "metadata": {
        "id": "r2odpzjXBsVH"
      },
      "execution_count": null,
      "outputs": []
    },
    {
      "cell_type": "code",
      "source": [
        "df2 = filter_by_year(df)"
      ],
      "metadata": {
        "id": "93cZla2vCLq_"
      },
      "execution_count": null,
      "outputs": []
    },
    {
      "cell_type": "code",
      "source": [
        "df2['Assessment Year'].value_counts()"
      ],
      "metadata": {
        "colab": {
          "base_uri": "https://localhost:8080/"
        },
        "id": "7RJlxtB1CT3u",
        "outputId": "9c02856d-7fb8-4167-a6b1-41b4b1190329"
      },
      "execution_count": null,
      "outputs": [
        {
          "output_type": "execute_result",
          "data": {
            "text/plain": [
              "2021    413809\n",
              "2020    409384\n",
              "2019    402419\n",
              "Name: Assessment Year, dtype: int64"
            ]
          },
          "metadata": {},
          "execution_count": 6
        }
      ]
    },
    {
      "cell_type": "code",
      "source": [
        "def extract_legal_plan(df, column_name = 'Legal Description', delimiter = ' '):\n",
        "    new_df = df[column_name].str.split(delimiter, expand=True)\n",
        "    return df.drop(column_name, axis=1).join(new_df[1])"
      ],
      "metadata": {
        "id": "QV-g9nORCuyS"
      },
      "execution_count": null,
      "outputs": []
    },
    {
      "cell_type": "code",
      "source": [
        "df3 = extract_legal_plan(df2)"
      ],
      "metadata": {
        "id": "xuEOnhvrCwhW"
      },
      "execution_count": null,
      "outputs": []
    },
    {
      "cell_type": "code",
      "source": [
        "#save this dataframe\n",
        "df3.to_csv('needed_data.csv', index=False)"
      ],
      "metadata": {
        "id": "54Q43P84DDPO"
      },
      "execution_count": null,
      "outputs": []
    },
    {
      "cell_type": "code",
      "source": [
        "def count_nulls(df):\n",
        "    return df.isna().sum()"
      ],
      "metadata": {
        "id": "J3ZTfOfIENWO"
      },
      "execution_count": null,
      "outputs": []
    },
    {
      "cell_type": "code",
      "source": [
        "null_counts = count_nulls(df3)\n",
        "print(f'Number of null values by column: \\n{null_counts}')"
      ],
      "metadata": {
        "colab": {
          "base_uri": "https://localhost:8080/"
        },
        "id": "0pxT_DYOFrtZ",
        "outputId": "63d3a632-57e8-4423-db8b-bcb67950d48b"
      },
      "execution_count": null,
      "outputs": [
        {
          "output_type": "stream",
          "name": "stdout",
          "text": [
            "Number of null values by column: \n",
            "Account Number               0\n",
            "Assessment Year              0\n",
            "Suite                   982645\n",
            "House Number            132680\n",
            "Street Name             132680\n",
            "Neighbourhood                0\n",
            "Actual Year Built        61977\n",
            "Garage                       0\n",
            "Zoning                     110\n",
            "Lot Size                  8436\n",
            "Assessed Value               0\n",
            "Assessment Class 1           0\n",
            "Assessment Class % 1         0\n",
            "1                        14265\n",
            "dtype: int64\n"
          ]
        }
      ]
    },
    {
      "cell_type": "code",
      "source": [
        "df3 = df3.drop(['Suite', 'House Number', 'Street Name'], axis = 1)"
      ],
      "metadata": {
        "id": "fN0jyZtoKcnJ"
      },
      "execution_count": null,
      "outputs": []
    },
    {
      "cell_type": "code",
      "source": [
        "arr1 = np.array(df3['Actual Year Built'])"
      ],
      "metadata": {
        "id": "xEVAkhOuLCnP"
      },
      "execution_count": null,
      "outputs": []
    },
    {
      "cell_type": "code",
      "source": [
        "arr1.sort()"
      ],
      "metadata": {
        "id": "LRQJLUYOLfQw"
      },
      "execution_count": null,
      "outputs": []
    },
    {
      "cell_type": "code",
      "source": [
        "arr1"
      ],
      "metadata": {
        "colab": {
          "base_uri": "https://localhost:8080/"
        },
        "id": "TFUMN8PXLjQ-",
        "outputId": "1c4f4244-e6d7-49ae-e6b6-32d7cd0bfc04"
      },
      "execution_count": null,
      "outputs": [
        {
          "output_type": "execute_result",
          "data": {
            "text/plain": [
              "array([1881., 1881., 1881., ...,   nan,   nan,   nan])"
            ]
          },
          "metadata": {},
          "execution_count": 23
        }
      ]
    },
    {
      "cell_type": "code",
      "source": [
        "# 1881 is seems to be oldest record in the data - we replace the 62k null values with 1881.\n",
        "def replace_nulls_built(df, column = 'Actual Year Built', value = 1881):\n",
        "  df[column].fillna(value, inplace=True)\n",
        "  return df"
      ],
      "metadata": {
        "id": "aiumKFjjLouI"
      },
      "execution_count": null,
      "outputs": []
    },
    {
      "cell_type": "code",
      "source": [
        "df4 = replace_nulls_built(df3)"
      ],
      "metadata": {
        "id": "MS3G5xwANA9z"
      },
      "execution_count": null,
      "outputs": []
    },
    {
      "cell_type": "code",
      "source": [
        "null_counts = count_nulls(df4)\n",
        "print(f'Number of null values by column: \\n{null_counts}')"
      ],
      "metadata": {
        "colab": {
          "base_uri": "https://localhost:8080/"
        },
        "id": "VfKmCEbXNT3I",
        "outputId": "049fb4da-a566-41b5-cb0f-f9273ce216ea"
      },
      "execution_count": null,
      "outputs": [
        {
          "output_type": "stream",
          "name": "stdout",
          "text": [
            "Number of null values by column: \n",
            "Account Number              0\n",
            "Assessment Year             0\n",
            "Neighbourhood               0\n",
            "Actual Year Built           0\n",
            "Garage                      0\n",
            "Zoning                    110\n",
            "Lot Size                 8436\n",
            "Assessed Value              0\n",
            "Assessment Class 1          0\n",
            "Assessment Class % 1        0\n",
            "1                       14265\n",
            "dtype: int64\n"
          ]
        }
      ]
    },
    {
      "cell_type": "code",
      "source": [
        "df4['Actual Year Built'] = df4['Actual Year Built'].astype(int)"
      ],
      "metadata": {
        "id": "cqNNxQXKNLhN"
      },
      "execution_count": null,
      "outputs": []
    },
    {
      "cell_type": "code",
      "source": [
        "df4 = df4.drop([1], axis = 1)"
      ],
      "metadata": {
        "id": "y-3m-DDDNlkQ"
      },
      "execution_count": null,
      "outputs": []
    },
    {
      "cell_type": "code",
      "source": [
        "df4"
      ],
      "metadata": {
        "colab": {
          "base_uri": "https://localhost:8080/",
          "height": 424
        },
        "id": "UrEFY4EZOFvo",
        "outputId": "2e5a925f-aa75-46b4-eef5-84ea864c81a8"
      },
      "execution_count": null,
      "outputs": [
        {
          "output_type": "execute_result",
          "data": {
            "text/plain": [
              "         Account Number  Assessment Year              Neighbourhood  \\\n",
              "4              10774755             2019                HOMESTEADER   \n",
              "5              10774764             2019                HOMESTEADER   \n",
              "11             10773038             2021                  INGLEWOOD   \n",
              "13             10772761             2019            QUEEN ALEXANDRA   \n",
              "14             10773438             2020                   SHERWOOD   \n",
              "...                 ...              ...                        ...   \n",
              "4217595        11013019             2021              MICHAELS PARK   \n",
              "4217596        10979076             2021                   CAVANAGH   \n",
              "4217597        10998103             2021  THE ORCHARDS AT ELLERSLIE   \n",
              "4217598        10976692             2021       ARMSTRONG INDUSTRIAL   \n",
              "4217609        10983428             2021             CHAPPELLE AREA   \n",
              "\n",
              "         Actual Year Built Garage Zoning   Lot Size  Assessed Value  \\\n",
              "4                     2016      Y    RF5    265.284        331500.0   \n",
              "5                     2016      Y    RF5    207.691        322000.0   \n",
              "11                    2015      Y    RF3    277.658        395000.0   \n",
              "13                    2016      N    CB2     32.037        198000.0   \n",
              "14                    2016      Y    RF1    343.855        498000.0   \n",
              "...                    ...    ...    ...        ...             ...   \n",
              "4217595               2021      Y    CS2    207.061        271500.0   \n",
              "4217596               1881      N    RMD    429.545        226000.0   \n",
              "4217597               2021      Y    RLD    262.401        344000.0   \n",
              "4217598               2008      N    CB2  18850.339       7679500.0   \n",
              "4217609               1881      N    RLD    619.282        177000.0   \n",
              "\n",
              "        Assessment Class 1  Assessment Class % 1  \n",
              "4              RESIDENTIAL                 100.0  \n",
              "5              RESIDENTIAL                 100.0  \n",
              "11             RESIDENTIAL                 100.0  \n",
              "13             RESIDENTIAL                 100.0  \n",
              "14             RESIDENTIAL                 100.0  \n",
              "...                    ...                   ...  \n",
              "4217595        RESIDENTIAL                 100.0  \n",
              "4217596        RESIDENTIAL                 100.0  \n",
              "4217597        RESIDENTIAL                 100.0  \n",
              "4217598         COMMERCIAL                 100.0  \n",
              "4217609        RESIDENTIAL                 100.0  \n",
              "\n",
              "[1225612 rows x 10 columns]"
            ],
            "text/html": [
              "\n",
              "  <div id=\"df-0c349c19-75b1-45d2-816e-15201bd36099\">\n",
              "    <div class=\"colab-df-container\">\n",
              "      <div>\n",
              "<style scoped>\n",
              "    .dataframe tbody tr th:only-of-type {\n",
              "        vertical-align: middle;\n",
              "    }\n",
              "\n",
              "    .dataframe tbody tr th {\n",
              "        vertical-align: top;\n",
              "    }\n",
              "\n",
              "    .dataframe thead th {\n",
              "        text-align: right;\n",
              "    }\n",
              "</style>\n",
              "<table border=\"1\" class=\"dataframe\">\n",
              "  <thead>\n",
              "    <tr style=\"text-align: right;\">\n",
              "      <th></th>\n",
              "      <th>Account Number</th>\n",
              "      <th>Assessment Year</th>\n",
              "      <th>Neighbourhood</th>\n",
              "      <th>Actual Year Built</th>\n",
              "      <th>Garage</th>\n",
              "      <th>Zoning</th>\n",
              "      <th>Lot Size</th>\n",
              "      <th>Assessed Value</th>\n",
              "      <th>Assessment Class 1</th>\n",
              "      <th>Assessment Class % 1</th>\n",
              "    </tr>\n",
              "  </thead>\n",
              "  <tbody>\n",
              "    <tr>\n",
              "      <th>4</th>\n",
              "      <td>10774755</td>\n",
              "      <td>2019</td>\n",
              "      <td>HOMESTEADER</td>\n",
              "      <td>2016</td>\n",
              "      <td>Y</td>\n",
              "      <td>RF5</td>\n",
              "      <td>265.284</td>\n",
              "      <td>331500.0</td>\n",
              "      <td>RESIDENTIAL</td>\n",
              "      <td>100.0</td>\n",
              "    </tr>\n",
              "    <tr>\n",
              "      <th>5</th>\n",
              "      <td>10774764</td>\n",
              "      <td>2019</td>\n",
              "      <td>HOMESTEADER</td>\n",
              "      <td>2016</td>\n",
              "      <td>Y</td>\n",
              "      <td>RF5</td>\n",
              "      <td>207.691</td>\n",
              "      <td>322000.0</td>\n",
              "      <td>RESIDENTIAL</td>\n",
              "      <td>100.0</td>\n",
              "    </tr>\n",
              "    <tr>\n",
              "      <th>11</th>\n",
              "      <td>10773038</td>\n",
              "      <td>2021</td>\n",
              "      <td>INGLEWOOD</td>\n",
              "      <td>2015</td>\n",
              "      <td>Y</td>\n",
              "      <td>RF3</td>\n",
              "      <td>277.658</td>\n",
              "      <td>395000.0</td>\n",
              "      <td>RESIDENTIAL</td>\n",
              "      <td>100.0</td>\n",
              "    </tr>\n",
              "    <tr>\n",
              "      <th>13</th>\n",
              "      <td>10772761</td>\n",
              "      <td>2019</td>\n",
              "      <td>QUEEN ALEXANDRA</td>\n",
              "      <td>2016</td>\n",
              "      <td>N</td>\n",
              "      <td>CB2</td>\n",
              "      <td>32.037</td>\n",
              "      <td>198000.0</td>\n",
              "      <td>RESIDENTIAL</td>\n",
              "      <td>100.0</td>\n",
              "    </tr>\n",
              "    <tr>\n",
              "      <th>14</th>\n",
              "      <td>10773438</td>\n",
              "      <td>2020</td>\n",
              "      <td>SHERWOOD</td>\n",
              "      <td>2016</td>\n",
              "      <td>Y</td>\n",
              "      <td>RF1</td>\n",
              "      <td>343.855</td>\n",
              "      <td>498000.0</td>\n",
              "      <td>RESIDENTIAL</td>\n",
              "      <td>100.0</td>\n",
              "    </tr>\n",
              "    <tr>\n",
              "      <th>...</th>\n",
              "      <td>...</td>\n",
              "      <td>...</td>\n",
              "      <td>...</td>\n",
              "      <td>...</td>\n",
              "      <td>...</td>\n",
              "      <td>...</td>\n",
              "      <td>...</td>\n",
              "      <td>...</td>\n",
              "      <td>...</td>\n",
              "      <td>...</td>\n",
              "    </tr>\n",
              "    <tr>\n",
              "      <th>4217595</th>\n",
              "      <td>11013019</td>\n",
              "      <td>2021</td>\n",
              "      <td>MICHAELS PARK</td>\n",
              "      <td>2021</td>\n",
              "      <td>Y</td>\n",
              "      <td>CS2</td>\n",
              "      <td>207.061</td>\n",
              "      <td>271500.0</td>\n",
              "      <td>RESIDENTIAL</td>\n",
              "      <td>100.0</td>\n",
              "    </tr>\n",
              "    <tr>\n",
              "      <th>4217596</th>\n",
              "      <td>10979076</td>\n",
              "      <td>2021</td>\n",
              "      <td>CAVANAGH</td>\n",
              "      <td>1881</td>\n",
              "      <td>N</td>\n",
              "      <td>RMD</td>\n",
              "      <td>429.545</td>\n",
              "      <td>226000.0</td>\n",
              "      <td>RESIDENTIAL</td>\n",
              "      <td>100.0</td>\n",
              "    </tr>\n",
              "    <tr>\n",
              "      <th>4217597</th>\n",
              "      <td>10998103</td>\n",
              "      <td>2021</td>\n",
              "      <td>THE ORCHARDS AT ELLERSLIE</td>\n",
              "      <td>2021</td>\n",
              "      <td>Y</td>\n",
              "      <td>RLD</td>\n",
              "      <td>262.401</td>\n",
              "      <td>344000.0</td>\n",
              "      <td>RESIDENTIAL</td>\n",
              "      <td>100.0</td>\n",
              "    </tr>\n",
              "    <tr>\n",
              "      <th>4217598</th>\n",
              "      <td>10976692</td>\n",
              "      <td>2021</td>\n",
              "      <td>ARMSTRONG INDUSTRIAL</td>\n",
              "      <td>2008</td>\n",
              "      <td>N</td>\n",
              "      <td>CB2</td>\n",
              "      <td>18850.339</td>\n",
              "      <td>7679500.0</td>\n",
              "      <td>COMMERCIAL</td>\n",
              "      <td>100.0</td>\n",
              "    </tr>\n",
              "    <tr>\n",
              "      <th>4217609</th>\n",
              "      <td>10983428</td>\n",
              "      <td>2021</td>\n",
              "      <td>CHAPPELLE AREA</td>\n",
              "      <td>1881</td>\n",
              "      <td>N</td>\n",
              "      <td>RLD</td>\n",
              "      <td>619.282</td>\n",
              "      <td>177000.0</td>\n",
              "      <td>RESIDENTIAL</td>\n",
              "      <td>100.0</td>\n",
              "    </tr>\n",
              "  </tbody>\n",
              "</table>\n",
              "<p>1225612 rows × 10 columns</p>\n",
              "</div>\n",
              "      <button class=\"colab-df-convert\" onclick=\"convertToInteractive('df-0c349c19-75b1-45d2-816e-15201bd36099')\"\n",
              "              title=\"Convert this dataframe to an interactive table.\"\n",
              "              style=\"display:none;\">\n",
              "        \n",
              "  <svg xmlns=\"http://www.w3.org/2000/svg\" height=\"24px\"viewBox=\"0 0 24 24\"\n",
              "       width=\"24px\">\n",
              "    <path d=\"M0 0h24v24H0V0z\" fill=\"none\"/>\n",
              "    <path d=\"M18.56 5.44l.94 2.06.94-2.06 2.06-.94-2.06-.94-.94-2.06-.94 2.06-2.06.94zm-11 1L8.5 8.5l.94-2.06 2.06-.94-2.06-.94L8.5 2.5l-.94 2.06-2.06.94zm10 10l.94 2.06.94-2.06 2.06-.94-2.06-.94-.94-2.06-.94 2.06-2.06.94z\"/><path d=\"M17.41 7.96l-1.37-1.37c-.4-.4-.92-.59-1.43-.59-.52 0-1.04.2-1.43.59L10.3 9.45l-7.72 7.72c-.78.78-.78 2.05 0 2.83L4 21.41c.39.39.9.59 1.41.59.51 0 1.02-.2 1.41-.59l7.78-7.78 2.81-2.81c.8-.78.8-2.07 0-2.86zM5.41 20L4 18.59l7.72-7.72 1.47 1.35L5.41 20z\"/>\n",
              "  </svg>\n",
              "      </button>\n",
              "      \n",
              "  <style>\n",
              "    .colab-df-container {\n",
              "      display:flex;\n",
              "      flex-wrap:wrap;\n",
              "      gap: 12px;\n",
              "    }\n",
              "\n",
              "    .colab-df-convert {\n",
              "      background-color: #E8F0FE;\n",
              "      border: none;\n",
              "      border-radius: 50%;\n",
              "      cursor: pointer;\n",
              "      display: none;\n",
              "      fill: #1967D2;\n",
              "      height: 32px;\n",
              "      padding: 0 0 0 0;\n",
              "      width: 32px;\n",
              "    }\n",
              "\n",
              "    .colab-df-convert:hover {\n",
              "      background-color: #E2EBFA;\n",
              "      box-shadow: 0px 1px 2px rgba(60, 64, 67, 0.3), 0px 1px 3px 1px rgba(60, 64, 67, 0.15);\n",
              "      fill: #174EA6;\n",
              "    }\n",
              "\n",
              "    [theme=dark] .colab-df-convert {\n",
              "      background-color: #3B4455;\n",
              "      fill: #D2E3FC;\n",
              "    }\n",
              "\n",
              "    [theme=dark] .colab-df-convert:hover {\n",
              "      background-color: #434B5C;\n",
              "      box-shadow: 0px 1px 3px 1px rgba(0, 0, 0, 0.15);\n",
              "      filter: drop-shadow(0px 1px 2px rgba(0, 0, 0, 0.3));\n",
              "      fill: #FFFFFF;\n",
              "    }\n",
              "  </style>\n",
              "\n",
              "      <script>\n",
              "        const buttonEl =\n",
              "          document.querySelector('#df-0c349c19-75b1-45d2-816e-15201bd36099 button.colab-df-convert');\n",
              "        buttonEl.style.display =\n",
              "          google.colab.kernel.accessAllowed ? 'block' : 'none';\n",
              "\n",
              "        async function convertToInteractive(key) {\n",
              "          const element = document.querySelector('#df-0c349c19-75b1-45d2-816e-15201bd36099');\n",
              "          const dataTable =\n",
              "            await google.colab.kernel.invokeFunction('convertToInteractive',\n",
              "                                                     [key], {});\n",
              "          if (!dataTable) return;\n",
              "\n",
              "          const docLinkHtml = 'Like what you see? Visit the ' +\n",
              "            '<a target=\"_blank\" href=https://colab.research.google.com/notebooks/data_table.ipynb>data table notebook</a>'\n",
              "            + ' to learn more about interactive tables.';\n",
              "          element.innerHTML = '';\n",
              "          dataTable['output_type'] = 'display_data';\n",
              "          await google.colab.output.renderOutput(dataTable, element);\n",
              "          const docLink = document.createElement('div');\n",
              "          docLink.innerHTML = docLinkHtml;\n",
              "          element.appendChild(docLink);\n",
              "        }\n",
              "      </script>\n",
              "    </div>\n",
              "  </div>\n",
              "  "
            ]
          },
          "metadata": {},
          "execution_count": 40
        }
      ]
    },
    {
      "cell_type": "code",
      "source": [
        "null_counts = count_nulls(df4)\n",
        "print(f'Number of null values by column: \\n{null_counts}')"
      ],
      "metadata": {
        "colab": {
          "base_uri": "https://localhost:8080/"
        },
        "id": "1uatvjcPOLAm",
        "outputId": "c0466591-3525-4fb3-923c-afa300e37f05"
      },
      "execution_count": null,
      "outputs": [
        {
          "output_type": "stream",
          "name": "stdout",
          "text": [
            "Number of null values by column: \n",
            "Account Number             0\n",
            "Assessment Year            0\n",
            "Neighbourhood              0\n",
            "Actual Year Built          0\n",
            "Garage                     0\n",
            "Zoning                   110\n",
            "Lot Size                8436\n",
            "Assessed Value             0\n",
            "Assessment Class 1         0\n",
            "Assessment Class % 1       0\n",
            "dtype: int64\n"
          ]
        }
      ]
    },
    {
      "cell_type": "code",
      "source": [
        "df4.dropna(subset=['Zoning'], inplace=True)\n",
        "df4.dropna(subset=['Lot Size'], inplace=True)"
      ],
      "metadata": {
        "id": "ORhDrAtFOey9"
      },
      "execution_count": null,
      "outputs": []
    },
    {
      "cell_type": "code",
      "source": [
        "null_counts = count_nulls(df4)\n",
        "print(f'Number of null values by column: \\n{null_counts}')"
      ],
      "metadata": {
        "colab": {
          "base_uri": "https://localhost:8080/"
        },
        "id": "jqKoUuKoOoKt",
        "outputId": "a529e77d-0963-421f-920b-c0abcb79167b"
      },
      "execution_count": null,
      "outputs": [
        {
          "output_type": "stream",
          "name": "stdout",
          "text": [
            "Number of null values by column: \n",
            "Account Number          0\n",
            "Assessment Year         0\n",
            "Neighbourhood           0\n",
            "Actual Year Built       0\n",
            "Garage                  0\n",
            "Zoning                  0\n",
            "Lot Size                0\n",
            "Assessed Value          0\n",
            "Assessment Class 1      0\n",
            "Assessment Class % 1    0\n",
            "dtype: int64\n"
          ]
        }
      ]
    },
    {
      "cell_type": "code",
      "source": [
        "#save this dataframe\n",
        "df3.to_csv('final_data.csv', index=False)"
      ],
      "metadata": {
        "id": "nb_egR-KOpRJ"
      },
      "execution_count": null,
      "outputs": []
    },
    {
      "cell_type": "code",
      "source": [
        "df4.to_csv('final_data.csv', index=False)"
      ],
      "metadata": {
        "id": "ICx3vmKkOzIp"
      },
      "execution_count": null,
      "outputs": []
    }
  ]
}